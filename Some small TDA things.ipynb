{
 "cells": [
  {
   "cell_type": "markdown",
   "id": "559c0cc3",
   "metadata": {},
   "source": [
    "## This is where I have some TDA things I can run. The cells allow me to control what runs, but I will make sure to indicate where different mini projects are\n",
    "\n",
    "This project uses python, and so we will be using the BATS python bindings (I also don't know c++ (yet!))\n",
    "\n",
    "First, we need to install BATS, this is done using pip install bats-tda. We then do our primary set up:"
   ]
  },
  {
   "cell_type": "code",
   "execution_count": null,
   "id": "dcf316e5",
   "metadata": {},
   "outputs": [],
   "source": [
    "import numpy as np\n",
    "import bats\n",
    "from bats.visualization.plotly import ScatterVisualization\n",
    "import scipy.spatial.distance as distance\n",
    "import plotly\n",
    "import plotly.express as px\n",
    "\n",
    "np.random.seed(0)"
   ]
  }
 ],
 "metadata": {
  "kernelspec": {
   "display_name": "Python 3 (ipykernel)",
   "language": "python",
   "name": "python3"
  },
  "language_info": {
   "codemirror_mode": {
    "name": "ipython",
    "version": 3
   },
   "file_extension": ".py",
   "mimetype": "text/x-python",
   "name": "python",
   "nbconvert_exporter": "python",
   "pygments_lexer": "ipython3",
   "version": "3.10.6"
  }
 },
 "nbformat": 4,
 "nbformat_minor": 5
}
