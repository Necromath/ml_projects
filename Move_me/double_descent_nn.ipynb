{
 "cells": [
  {
   "cell_type": "code",
   "execution_count": 1,
   "metadata": {},
   "outputs": [],
   "source": [
    "import torch\n",
    "import torch.nn.functional as F\n",
    "import math\n",
    "import numpy as np\n",
    "import argparse\n",
    "from torchvision import datasets, transforms\n",
    "import random\n",
    "import copy\n",
    "import torch.nn as nn\n",
    "import sys\n",
    "from torch.utils.data import random_split"
   ]
  },
  {
   "cell_type": "code",
   "execution_count": 2,
   "metadata": {},
   "outputs": [],
   "source": [
    "train_size = 4000\n",
    "test_size = 5000\n",
    "d = 784\n",
    "device = torch.device(\"cpu\")"
   ]
  },
  {
   "cell_type": "code",
   "execution_count": 3,
   "metadata": {},
   "outputs": [
    {
     "name": "stdout",
     "output_type": "stream",
     "text": [
      "Downloading http://yann.lecun.com/exdb/mnist/train-images-idx3-ubyte.gz\n",
      "Downloading http://yann.lecun.com/exdb/mnist/train-images-idx3-ubyte.gz to MNIST/MNIST/raw/train-images-idx3-ubyte.gz\n"
     ]
    },
    {
     "name": "stderr",
     "output_type": "stream",
     "text": [
      "100.0%\n"
     ]
    },
    {
     "name": "stdout",
     "output_type": "stream",
     "text": [
      "Extracting MNIST/MNIST/raw/train-images-idx3-ubyte.gz to MNIST/MNIST/raw\n"
     ]
    },
    {
     "name": "stderr",
     "output_type": "stream",
     "text": [
      "\r",
      "100.0%"
     ]
    },
    {
     "name": "stdout",
     "output_type": "stream",
     "text": [
      "\n",
      "Downloading http://yann.lecun.com/exdb/mnist/train-labels-idx1-ubyte.gz\n",
      "Downloading http://yann.lecun.com/exdb/mnist/train-labels-idx1-ubyte.gz to MNIST/MNIST/raw/train-labels-idx1-ubyte.gz\n",
      "Extracting MNIST/MNIST/raw/train-labels-idx1-ubyte.gz to MNIST/MNIST/raw\n",
      "\n",
      "Downloading http://yann.lecun.com/exdb/mnist/t10k-images-idx3-ubyte.gz\n",
      "Downloading http://yann.lecun.com/exdb/mnist/t10k-images-idx3-ubyte.gz to MNIST/MNIST/raw/t10k-images-idx3-ubyte.gz\n"
     ]
    },
    {
     "name": "stderr",
     "output_type": "stream",
     "text": [
      "\n",
      "100.0%\n"
     ]
    },
    {
     "name": "stdout",
     "output_type": "stream",
     "text": [
      "Extracting MNIST/MNIST/raw/t10k-images-idx3-ubyte.gz to MNIST/MNIST/raw\n",
      "\n",
      "Downloading http://yann.lecun.com/exdb/mnist/t10k-labels-idx1-ubyte.gz\n",
      "Downloading http://yann.lecun.com/exdb/mnist/t10k-labels-idx1-ubyte.gz to MNIST/MNIST/raw/t10k-labels-idx1-ubyte.gz\n"
     ]
    },
    {
     "name": "stderr",
     "output_type": "stream",
     "text": [
      "100.0%\n"
     ]
    },
    {
     "name": "stdout",
     "output_type": "stream",
     "text": [
      "Extracting MNIST/MNIST/raw/t10k-labels-idx1-ubyte.gz to MNIST/MNIST/raw\n",
      "\n"
     ]
    }
   ],
   "source": [
    "transform=transforms.Compose([\n",
    "        transforms.ToTensor(),\n",
    "        transforms.Normalize((0.1307,), (0.3081,))\n",
    "        ])\n",
    "trainset = datasets.MNIST('MNIST', train=True, download=True,\n",
    "                    transform=transform)\n",
    "testset = datasets.MNIST('MNIST', train=False,\n",
    "                    transform=transform)\n",
    "trainset = random_split(trainset, [train_size, trainset.data.shape[0] - train_size],generator=torch.Generator().manual_seed(7))[0]\n",
    "testset = random_split(testset, [test_size, testset.data.shape[0] - test_size],generator=torch.Generator().manual_seed(7))[0]\n",
    "\n",
    "train_loader = torch.utils.data.DataLoader(\n",
    "    trainset,\n",
    "    batch_size=128, shuffle= False)\n",
    "\n",
    "test_loader = torch.utils.data.DataLoader(\n",
    "    testset,\n",
    "    batch_size=test_size, shuffle= False)"
   ]
  },
  {
   "cell_type": "code",
   "execution_count": 4,
   "metadata": {},
   "outputs": [],
   "source": [
    "class FCN(torch.nn.Module):\n",
    "  def __init__(self,width):\n",
    "    super(FCN, self).__init__()\n",
    "    self.fc1 = nn.Linear(d,width,bias = False)\n",
    "    self.fc2 = nn.Linear(width,10,bias = False)\n",
    "    self.width = width\n",
    "  def forward(self, x):\n",
    "    x = x.view(-1,d)\n",
    "    x = self.fc1(x)\n",
    "    x = F.relu(x)\n",
    "    x = self.fc2(x)\n",
    "    return x"
   ]
  },
  {
   "cell_type": "code",
   "execution_count": 5,
   "metadata": {},
   "outputs": [],
   "source": [
    "class AverageMeter(object):\n",
    "    \"\"\"Computes and stores the average and current value\"\"\"\n",
    "    def __init__(self):\n",
    "        self.reset()\n",
    "\n",
    "    def reset(self):\n",
    "        self.val = 0\n",
    "        self.avg = 0\n",
    "        self.sum = 0\n",
    "        self.count = 0\n",
    "\n",
    "    def update(self, val, n=1):\n",
    "        self.val = val\n",
    "        self.sum += val * n\n",
    "        self.count += n\n",
    "        self.avg = self.sum / self.count"
   ]
  },
  {
   "cell_type": "code",
   "execution_count": 8,
   "metadata": {},
   "outputs": [],
   "source": [
    "model = FCN(100).to(device)\n",
    "optimizer = torch.optim.SGD(model.parameters(), lr=1e-1)\n",
    "epochs = 20\n",
    "th = 1e-3"
   ]
  },
  {
   "cell_type": "code",
   "execution_count": 9,
   "metadata": {},
   "outputs": [
    {
     "name": "stdout",
     "output_type": "stream",
     "text": [
      "epoch:0,  training accuracy:0.5475000143051147\n",
      "epoch:1,  training accuracy:0.7649999856948853\n",
      "epoch:2,  training accuracy:0.8230000138282776\n",
      "epoch:3,  training accuracy:0.8492500185966492\n",
      "epoch:4,  training accuracy:0.8657500147819519\n",
      "epoch:5,  training accuracy:0.8812500238418579\n",
      "epoch:6,  training accuracy:0.8899999856948853\n",
      "epoch:7,  training accuracy:0.8957499861717224\n",
      "epoch:8,  training accuracy:0.9022499918937683\n",
      "epoch:9,  training accuracy:0.90625\n",
      "epoch:10,  training accuracy:0.9102500081062317\n",
      "epoch:11,  training accuracy:0.9139999747276306\n",
      "epoch:12,  training accuracy:0.9160000085830688\n",
      "epoch:13,  training accuracy:0.9210000038146973\n",
      "epoch:14,  training accuracy:0.925000011920929\n",
      "epoch:15,  training accuracy:0.9262499809265137\n",
      "epoch:16,  training accuracy:0.9300000071525574\n",
      "epoch:17,  training accuracy:0.9325000047683716\n",
      "epoch:18,  training accuracy:0.934249997138977\n",
      "epoch:19,  training accuracy:0.9359999895095825\n"
     ]
    }
   ],
   "source": [
    "for epoch in range(epochs):\n",
    "    correct = 0\n",
    "    train_loss = AverageMeter()\n",
    "    for (data,target) in train_loader:\n",
    "        data, target = data.to(device), target.to(device)\n",
    "        one_hot = nn.functional.one_hot(target,10).float()\n",
    "        optimizer.zero_grad()\n",
    "        output = model(data)\n",
    "        loss = F.mse_loss(output,one_hot)\n",
    "        pred = output.argmax(dim=1, keepdim=True)\n",
    "        correct += pred.eq(target.view_as(pred)).sum()\n",
    "        train_loss.update(loss.item(),len(data))\n",
    "        loss.backward()\n",
    "        optimizer.step()\n",
    "#        print(f'epoch:{epoch}, training loss: {loss.item()}')\n",
    "    accuracy = correct/train_size\n",
    "    print(f'epoch:{epoch},  training accuracy:{accuracy}')\n",
    "    if train_loss.avg<th:\n",
    "        break\n",
    "\n",
    "with torch.no_grad():\n",
    "    for (data_test,target_test) in test_loader:\n",
    "        data_test, target_test = data_test.to(device), target_test.to(device)\n",
    "        one_hot_test = nn.functional.one_hot(target_test,10).float()\n",
    "        output_test = model(data_test)\n",
    "        test_loss = F.mse_loss(output_test,one_hot_test)\n",
    "        pred = output_test.argmax(dim=1, keepdim=True)\n",
    "        correct = pred.eq(target_test.view_as(pred)).sum()\n",
    "        accuracy = correct/test_size"
   ]
  },
  {
   "cell_type": "code",
   "execution_count": 10,
   "metadata": {},
   "outputs": [
    {
     "ename": "ModuleNotFoundError",
     "evalue": "No module named 'data_nn_dd'",
     "output_type": "error",
     "traceback": [
      "\u001b[0;31m---------------------------------------------------------------------------\u001b[0m",
      "\u001b[0;31mModuleNotFoundError\u001b[0m                       Traceback (most recent call last)",
      "Cell \u001b[0;32mIn[10], line 1\u001b[0m\n\u001b[0;32m----> 1\u001b[0m \u001b[38;5;28;01mfrom\u001b[39;00m \u001b[38;5;21;01mdata_nn_dd\u001b[39;00m \u001b[38;5;28;01mimport\u001b[39;00m training,testing\n",
      "\u001b[0;31mModuleNotFoundError\u001b[0m: No module named 'data_nn_dd'"
     ]
    }
   ],
   "source": [
    "from data_nn_dd import training,testing"
   ]
  },
  {
   "cell_type": "code",
   "execution_count": 11,
   "metadata": {},
   "outputs": [
    {
     "ename": "NameError",
     "evalue": "name 'training' is not defined",
     "output_type": "error",
     "traceback": [
      "\u001b[0;31m---------------------------------------------------------------------------\u001b[0m",
      "\u001b[0;31mNameError\u001b[0m                                 Traceback (most recent call last)",
      "Cell \u001b[0;32mIn[11], line 1\u001b[0m\n\u001b[0;32m----> 1\u001b[0m widths \u001b[38;5;241m=\u001b[39m \u001b[43mtraining\u001b[49m[\u001b[38;5;241m1\u001b[39m::\u001b[38;5;241m8\u001b[39m]\n\u001b[1;32m      2\u001b[0m train_loss \u001b[38;5;241m=\u001b[39m training[\u001b[38;5;241m5\u001b[39m::\u001b[38;5;241m8\u001b[39m]\n\u001b[1;32m      3\u001b[0m train_error \u001b[38;5;241m=\u001b[39m \u001b[38;5;241m1\u001b[39m \u001b[38;5;241m-\u001b[39m np\u001b[38;5;241m.\u001b[39marray(training[\u001b[38;5;241m7\u001b[39m::\u001b[38;5;241m8\u001b[39m])\n",
      "\u001b[0;31mNameError\u001b[0m: name 'training' is not defined"
     ]
    }
   ],
   "source": [
    "widths = training[1::8]\n",
    "train_loss = training[5::8]\n",
    "train_error = 1 - np.array(training[7::8])\n",
    "test_loss = testing[5::8]\n",
    "test_error = 1 - np.array(testing[7::8])\n",
    "\n"
   ]
  },
  {
   "cell_type": "code",
   "execution_count": 4,
   "metadata": {},
   "outputs": [],
   "source": [
    "import matplotlib.pyplot as plt\n"
   ]
  },
  {
   "cell_type": "code",
   "execution_count": 5,
   "metadata": {},
   "outputs": [
    {
     "data": {
      "image/png": "[encoded data removed]",
      "text/plain": [
       "<Figure size 640x480 with 1 Axes>"
      ]
     },
     "metadata": {},
     "output_type": "display_data"
    }
   ],
   "source": [
    "plt.plot(widths,train_error,linestyle='-',label = 'train error')\n",
    "plt.plot(widths,test_error,linestyle='--',label = 'test error')\n",
    "plt.legend()\n",
    "\n",
    "plt.show()"
   ]
  },
  {
   "cell_type": "code",
   "execution_count": null,
   "metadata": {},
   "outputs": [],
   "source": []
  }
 ],
 "metadata": {
  "kernelspec": {
   "display_name": "Python 3 (ipykernel)",
   "language": "python",
   "name": "python3"
  },
  "language_info": {
   "codemirror_mode": {
    "name": "ipython",
    "version": 3
   },
   "file_extension": ".py",
   "mimetype": "text/x-python",
   "name": "python",
   "nbconvert_exporter": "python",
   "pygments_lexer": "ipython3",
   "version": "3.10.6"
  }
 },
 "nbformat": 4,
 "nbformat_minor": 1
}
