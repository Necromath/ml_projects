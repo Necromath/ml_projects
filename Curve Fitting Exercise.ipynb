{
 "cells": [
  {
   "cell_type": "code",
   "execution_count": 1,
   "id": "8185fde9",
   "metadata": {},
   "outputs": [],
   "source": [
    "##Here is an exercise for me to fit curves on images\n",
    "## Trying too hard. Start with an easier example. This imports the noisey asf data from an IMAGE\n",
    "## Start with a .csv and move up. We'll be back for this"
   ]
  },
  {
   "cell_type": "code",
   "execution_count": 19,
   "id": "993aefe0",
   "metadata": {},
   "outputs": [],
   "source": [
    "import scipy\n",
    "from numpy import asarray\n",
    "from PIL import Image\n",
    "import os\n",
    "import matplotlib\n",
    "import pandas"
   ]
  },
  {
   "cell_type": "code",
   "execution_count": 5,
   "id": "126cdf64",
   "metadata": {},
   "outputs": [
    {
     "name": "stdout",
     "output_type": "stream",
     "text": [
      "/home/mauasus/ml_projects\n"
     ]
    }
   ],
   "source": [
    "cwd = os.getcwd()\n",
    "\n",
    "print(cwd)"
   ]
  },
  {
   "cell_type": "code",
   "execution_count": 12,
   "id": "30369adb",
   "metadata": {},
   "outputs": [
    {
     "name": "stdout",
     "output_type": "stream",
     "text": [
      "JPEG\n",
      "(373, 359)\n",
      "RGB\n"
     ]
    }
   ],
   "source": [
    "image = Image.open(cwd+'/SeismicImage.jpg')\n",
    "print(image.format)\n",
    "print(image.size)\n",
    "print(image.mode)"
   ]
  },
  {
   "cell_type": "code",
   "execution_count": 13,
   "id": "b62da0c1",
   "metadata": {},
   "outputs": [
    {
     "name": "stderr",
     "output_type": "stream",
     "text": [
      "display-im6.q16: unable to open X server `:0' @ error/display.c/DisplayImageCommand/412.\n"
     ]
    }
   ],
   "source": [
    "bw_image = Image.open(cwd+'/SeismicImage.jpg').convert('L')\n",
    "\n",
    "bw_image.show()"
   ]
  },
  {
   "cell_type": "code",
   "execution_count": 16,
   "id": "5bc84e6b",
   "metadata": {},
   "outputs": [
    {
     "name": "stdout",
     "output_type": "stream",
     "text": [
      "<class 'numpy.ndarray'>\n",
      "(359, 373)\n"
     ]
    }
   ],
   "source": [
    "numpydata = asarray(bw_image)\n",
    "print(type(numpydata))\n",
    "print(numpydata.shape)"
   ]
  },
  {
   "cell_type": "code",
   "execution_count": 17,
   "id": "e1f3ba01",
   "metadata": {},
   "outputs": [
    {
     "name": "stdout",
     "output_type": "stream",
     "text": [
      "<class 'numpy.ndarray'>\n",
      "(359, 373, 3)\n"
     ]
    }
   ],
   "source": [
    "diffdata = asarray(image)\n",
    "print(type(diffdata))\n",
    "print(diffdata.shape)\n",
    "#So these are actually different datasets"
   ]
  },
  {
   "cell_type": "code",
   "execution_count": 18,
   "id": "f2f4bbc2",
   "metadata": {},
   "outputs": [
    {
     "name": "stdout",
     "output_type": "stream",
     "text": [
      "[[208 255 255 ... 237 255 255]\n",
      " [255 242 228 ... 255 255 249]\n",
      " [214  19   0 ... 205 250 253]\n",
      " ...\n",
      " [249 255 255 ... 243 238 255]\n",
      " [246 254 255 ... 255 252 255]\n",
      " [255 249 220 ...   1   7 235]]\n"
     ]
    }
   ],
   "source": [
    "print(numpydata)"
   ]
  },
  {
   "cell_type": "code",
   "execution_count": null,
   "id": "d90c31dd",
   "metadata": {},
   "outputs": [],
   "source": []
  }
 ],
 "metadata": {
  "kernelspec": {
   "display_name": "Python 3 (ipykernel)",
   "language": "python",
   "name": "python3"
  },
  "language_info": {
   "codemirror_mode": {
    "name": "ipython",
    "version": 3
   },
   "file_extension": ".py",
   "mimetype": "text/x-python",
   "name": "python",
   "nbconvert_exporter": "python",
   "pygments_lexer": "ipython3",
   "version": "3.10.12"
  }
 },
 "nbformat": 4,
 "nbformat_minor": 5
}
