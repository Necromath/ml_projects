{
 "cells": [
  {
   "cell_type": "code",
   "execution_count": 1,
   "metadata": {},
   "outputs": [],
   "source": [
    "import torch\n",
    "import torch.nn.functional as F\n",
    "import math\n",
    "import numpy as np\n",
    "import argparse\n",
    "from torchvision import datasets, transforms\n",
    "import random\n",
    "import copy\n",
    "import torch.nn as nn\n",
    "import sys\n",
    "from torch.utils.data import random_split\n",
    "import matplotlib.pyplot as plt\n"
   ]
  },
  {
   "cell_type": "code",
   "execution_count": 2,
   "metadata": {},
   "outputs": [],
   "source": [
    "n = 10\n",
    "X = torch.linspace(-2,2,n).double()\n",
    "Y = torch.sin(5*X).double()\n",
    "#torch.manual_seed(7)"
   ]
  },
  {
   "cell_type": "code",
   "execution_count": 10,
   "metadata": {},
   "outputs": [],
   "source": [
    "plt.scatter(X,Y)\n",
    "plt.show()"
   ]
  },
  {
   "cell_type": "code",
   "execution_count": 4,
   "metadata": {},
   "outputs": [],
   "source": [
    "def relu_features(data,rd,width):\n",
    "  data = data.reshape(-1,1)\n",
    "  ones = torch.ones((data.shape[0],1))\n",
    "  data = torch.concatenate([data,ones],dim=1)\n",
    "  feature = torch.mm(data,rd)\n",
    "  feature = (feature>0)*feature\n",
    "  return feature\n",
    "\n",
    "def regression(X,rd,width,Y):\n",
    "    feature = relu_features(X,rd,width)\n",
    "    n,p = feature.shape\n",
    "    Y = Y.reshape(-1,1)\n",
    "    if n>p:\n",
    "        a = torch.inverse(feature.t()@feature)@feature.t()@Y\n",
    "    else:\n",
    "        a = feature.t()@torch.inverse(feature@feature.t())@Y\n",
    "    print(torch.norm(feature@a - Y))\n",
    "    return a\n",
    "\n",
    "def predict(X,rd,width,a):\n",
    "    relu_feature_test = relu_features(X,rd,width)\n",
    "    return relu_feature_test@a"
   ]
  },
  {
   "cell_type": "code",
   "execution_count": 5,
   "metadata": {},
   "outputs": [],
   "source": [
    "width = 20\n",
    "\n",
    "rd_20 = torch.normal(mean = 0,std= 1, size = (2,width), ).double()\n",
    "a = regression(X,rd_20,width,Y)"
   ]
  },
  {
   "cell_type": "code",
   "execution_count": 6,
   "metadata": {},
   "outputs": [],
   "source": [
    "n_test = 541\n",
    "X_test = torch.linspace(-2,2,n_test).double()\n",
    "Y_test = torch.sin(5*X_test).double()\n",
    "pred_20 = predict(X_test,rd_20,width,a)"
   ]
  },
  {
   "cell_type": "code",
   "execution_count": 7,
   "metadata": {},
   "outputs": [],
   "source": [
    "width = 4000\n",
    "rd_4k = torch.normal(mean = 0,std= 1, size = (2,width)).double()\n",
    "relu_feature = relu_features(X,rd_4k,width)\n",
    "a = regression(X,rd_4k,width,Y)\n",
    "pred_4000 = predict(X_test,rd_4k,width,a)"
   ]
  },
  {
   "cell_type": "code",
   "execution_count": 8,
   "metadata": {},
   "outputs": [],
   "source": [
    "import matplotlib.pyplot as plt"
   ]
  },
  {
   "cell_type": "code",
   "execution_count": 9,
   "metadata": {},
   "outputs": [],
   "source": [
    "plt.plot(X_test,pred_20,linestyle='--',label = '20 relu features')\n",
    "plt.plot(X_test,pred_4000,linestyle='--',label = '4k relu features')\n",
    "# plt.plot(X_test,Y_test,linestyle='-',label = 'True function')\n",
    "plt.scatter(X,Y,s  = 50)\n",
    "plt.legend()\n",
    "plt.show()"
   ]
  },
  {
   "cell_type": "code",
   "execution_count": null,
   "metadata": {},
   "outputs": [],
   "source": []
  }
 ],
 "metadata": {
  "kernelspec": {
   "display_name": "Python 3 (ipykernel)",
   "language": "python",
   "name": "python3"
  },
  "language_info": {
   "codemirror_mode": {
    "name": "ipython",
    "version": 3
   },
   "file_extension": ".py",
   "mimetype": "text/x-python",
   "name": "python",
   "nbconvert_exporter": "python",
   "pygments_lexer": "ipython3",
   "version": "3.10.6"
  }
 },
 "nbformat": 4,
 "nbformat_minor": 1
}
