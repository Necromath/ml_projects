{
 "cells": [
  {
   "cell_type": "code",
   "execution_count": 2,
   "id": "ef9b3684",
   "metadata": {},
   "outputs": [
    {
     "name": "stdout",
     "output_type": "stream",
     "text": [
      "Hello world!\n"
     ]
    }
   ],
   "source": [
    "print (\"Hello world!\")"
   ]
  },
  {
   "cell_type": "code",
   "execution_count": 3,
   "id": "d9e532ef",
   "metadata": {},
   "outputs": [],
   "source": [
    "#Hello future me. We got Jupyter to run in the WSL. Hooray. Please refer to the Hands on ML from O'reilly"
   ]
  },
  {
   "cell_type": "code",
   "execution_count": 4,
   "id": "3ad021ed",
   "metadata": {},
   "outputs": [],
   "source": [
    "#We created an isolated environment in the terminal to host this stuff. i.e. a mini server to run Jupyter."
   ]
  },
  {
   "cell_type": "code",
   "execution_count": 5,
   "id": "b201c7f6",
   "metadata": {},
   "outputs": [],
   "source": [
    "#To return here. We need to to create a virtual environment. To do so, get into the Ml directory, then type"
   ]
  },
  {
   "cell_type": "code",
   "execution_count": 6,
   "id": "b79720c2",
   "metadata": {},
   "outputs": [],
   "source": [
    "# source env/bin/activate and it SHOULD set up the virtual environment. If not, just repeat the whole process of the set up"
   ]
  },
  {
   "cell_type": "code",
   "execution_count": 7,
   "id": "80d12338",
   "metadata": {},
   "outputs": [],
   "source": [
    "# As shown in the book."
   ]
  },
  {
   "cell_type": "code",
   "execution_count": null,
   "id": "e79c1e3d",
   "metadata": {},
   "outputs": [],
   "source": [
    "# NOTE: WE CANNOT EDIT THE JUPYTER NOTEBOOKS IN NVIM. So keep that in mind. This is a test edit from Nvim"
   ]
  }
 ],
 "metadata": {
  "kernelspec": {
   "display_name": "Python 3 (ipykernel)",
   "language": "python",
   "name": "python3"
  },
  "language_info": {
   "codemirror_mode": {
    "name": "ipython",
    "version": 3
   },
   "file_extension": ".py",
   "mimetype": "text/x-python",
   "name": "python",
   "nbconvert_exporter": "python",
   "pygments_lexer": "ipython3",
   "version": "3.10.6"
  }
 },
 "nbformat": 4,
 "nbformat_minor": 5
}
