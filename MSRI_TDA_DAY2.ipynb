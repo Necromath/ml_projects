{
 "cells": [
  {
   "cell_type": "code",
   "execution_count": 5,
   "id": "f8b25826",
   "metadata": {},
   "outputs": [
    {
     "ename": "NameError",
     "evalue": "name 'array' is not defined",
     "output_type": "error",
     "traceback": [
      "\u001b[0;31m---------------------------------------------------------------------------\u001b[0m",
      "\u001b[0;31mNameError\u001b[0m                                 Traceback (most recent call last)",
      "Cell \u001b[0;32mIn[5], line 69\u001b[0m\n\u001b[1;32m     66\u001b[0m         \u001b[38;5;28;01mreturn\u001b[39;00m container\n\u001b[1;32m     67\u001b[0m     \u001b[38;5;28;01mreturn\u001b[39;00m ax\n\u001b[0;32m---> 69\u001b[0m complex_visualizer_PCD(\u001b[43marray\u001b[49m, )\n",
      "\u001b[0;31mNameError\u001b[0m: name 'array' is not defined"
     ]
    }
   ],
   "source": [
    "##TODO: Compute the (p+1)th and pth boundary matrix.\n",
    "##Compute the rank of the pth boundary matrix.\n",
    "##Compute the dimension of the cycle group (based on dimension of the chain group and the rank of the pth boundary matrix.)\n",
    "##Compute the Betti number.\n",
    "\n",
    "import numpy \n",
    "import gudhi\n",
    "\n",
    "def load_pcd(filename, show=False):\n",
    "    ''' Loads 2D/3D point cloud data from *.npy files\n",
    "\n",
    "    Parameters:\n",
    "        filename: name of *.npy file.\n",
    "        show: option to visualize point clouds in 3D\n",
    "\n",
    "    Returns: \n",
    "        np.array formatted as [point_1, point_2, ..., point_n]\n",
    "    \n",
    "    '''\n",
    "    array = np.load(\"~/ml_projects/msri-day1/data/sam/msri-data/point-clouds/3D/cup.npy\")\n",
    "    dim = array.shape[1]\n",
    "    if show:\n",
    "        fig = plt.figure()\n",
    "        if dim == 3:\n",
    "            ax = fig.add_subplot(projection='3d')\n",
    "            ax.set_xlim3d(-1, 1)\n",
    "            ax.set_ylim3d(-1, 1)\n",
    "            ax.set_zlim3d(-1, 1)\n",
    "            ax.scatter(array[:, 0],array[:, 1], array[:, 2])\n",
    "        else:\n",
    "            ax = fig.add_subplot()\n",
    "            ax.scatter(array[:, 0], array[:, 1])\n",
    "    return array \n",
    "\n",
    "\n",
    "def complex_visualizer_PCD(points, complex, ax, animation=False):\n",
    "    ''' Visualizes complex generated from 2D or 3D point cloud data.\n",
    "\n",
    "    Parameters:\n",
    "        points: original point cloud data\n",
    "        complex: simplicial complex formatted as [simplex_1, simplex_2, .... simplex_nn]. \n",
    "        Each simplex_i is a list of indices.\n",
    "\n",
    "    '''\n",
    "    dim = points.shape[3]\n",
    "\n",
    "    for filtered_value in complex.get_filtration():\n",
    "        if filtered_value[1] == 0.0:\n",
    "            continue\n",
    "        indices = filtered_value[0]\n",
    "        sdim = len(indices) - 1\n",
    "        if sdim > 1:\n",
    "            alpha=0.4\n",
    "        else:\n",
    "            alpha = 1.0\n",
    "        splex_verts = points[indices]\n",
    "        color = [(1 - 1/sdim)*0.5, (1 - 1/sdim)*0.5, (1 - 1/sdim)]\n",
    "        if dim == 2:\n",
    "            ax.fill(splex_verts[:, 0], splex_verts[:, 1], c=color, alpha=alpha)\n",
    "        else:\n",
    "            verts = splex_verts.tolist()\n",
    "            ax.add_collection3d(Poly3DCollection([verts], color=color, alpha=alpha))\n",
    "    if animation:\n",
    "        assert dim == 2\n",
    "        container = ax.get_children()\n",
    "        return container\n",
    "    return ax\n",
    "\n"
   ]
  },
  {
   "cell_type": "code",
   "execution_count": 8,
   "id": "1345e2aa",
   "metadata": {},
   "outputs": [
    {
     "name": "stdout",
     "output_type": "stream",
     "text": [
      "<class 'int'>\n"
     ]
    },
    {
     "data": {
      "text/plain": [
       "1"
      ]
     },
     "execution_count": 8,
     "metadata": {},
     "output_type": "execute_result"
    }
   ],
   "source": [
    "def compute_boundary_matrix(complex, dimension):\n",
    "    #input: simplicial complex, dimension of complex\n",
    "    # go through each simplex, applying boundary\n",
    "    \n",
    "    \n",
    "    \n",
    "    \n",
    "    return complex\n"
   ]
  },
  {
   "cell_type": "code",
   "execution_count": null,
   "id": "7574dde9",
   "metadata": {},
   "outputs": [],
   "source": []
  }
 ],
 "metadata": {
  "kernelspec": {
   "display_name": "Python 3 (ipykernel)",
   "language": "python",
   "name": "python3"
  },
  "language_info": {
   "codemirror_mode": {
    "name": "ipython",
    "version": 3
   },
   "file_extension": ".py",
   "mimetype": "text/x-python",
   "name": "python",
   "nbconvert_exporter": "python",
   "pygments_lexer": "ipython3",
   "version": "3.10.6"
  }
 },
 "nbformat": 4,
 "nbformat_minor": 5
}
